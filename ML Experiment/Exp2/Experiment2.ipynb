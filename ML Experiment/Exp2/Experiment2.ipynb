{
 "cells": [
  {
   "cell_type": "code",
   "execution_count": 1,
   "metadata": {},
   "outputs": [],
   "source": [
    "import numpy as np\n",
    "import matplotlib.pyplot as plt\n",
    "import pandas as pd\n",
    "from sklearn import linear_model\n",
    "from sklearn.metrics import accuracy_score\n",
    "from sklearn.datasets import load_iris"
   ]
  },
  {
   "cell_type": "code",
   "execution_count": 2,
   "metadata": {},
   "outputs": [
    {
     "data": {
      "text/plain": [
       "<bound method DataFrame.info of            x1         x2  target\n",
       "0   34.623660  78.024693     0.0\n",
       "1   30.286711  43.894998     0.0\n",
       "2   35.847409  72.902198     0.0\n",
       "3   60.182599  86.308552     1.0\n",
       "4   79.032736  75.344376     1.0\n",
       "..        ...        ...     ...\n",
       "95  83.489163  48.380286     1.0\n",
       "96  42.261701  87.103851     1.0\n",
       "97  99.315009  68.775409     1.0\n",
       "98  55.340018  64.931938     1.0\n",
       "99  74.775893  89.529813     1.0\n",
       "\n",
       "[100 rows x 3 columns]>"
      ]
     },
     "execution_count": 2,
     "metadata": {},
     "output_type": "execute_result"
    }
   ],
   "source": [
    "# 读取数据\n",
    "data1 = np.genfromtxt('./data1.txt', delimiter=',')\n",
    "d1 = pd.DataFrame(data1, columns=['x1','x2','target'])\n",
    "d1.info"
   ]
  },
  {
   "cell_type": "code",
   "execution_count": 3,
   "metadata": {
    "scrolled": true
   },
   "outputs": [
    {
     "data": {
      "image/png": "[encoded data removed]",
      "text/plain": [
       "<Figure size 432x288 with 1 Axes>"
      ]
     },
     "metadata": {
      "needs_background": "light"
     },
     "output_type": "display_data"
    }
   ],
   "source": [
    "# 数据分类画散点图\n",
    "s1 = np.array(d1[d1['target']==0][['x1','x2']])\n",
    "s2 = np.array(d1[d1['target']==1][['x1','x2']])\n",
    "plt.scatter(s1[:,0],s1[:,1],marker='o',c='b')\n",
    "plt.scatter(s2[:,0],s2[:,1],marker='*',c='r')\n",
    "plt.show()"
   ]
  },
  {
   "cell_type": "code",
   "execution_count": null,
   "metadata": {},
   "outputs": [],
   "source": [
    "# 对数几率回归函数\n",
    "def sigmoid(z):\n",
    "    return 1/(1+np.exp(-1*z))\n",
    "\n",
    "# 代价函数\n",
    "def cost(x, y, theta):\n",
    "    # 样本数量\n",
    "    m = x.shape[0]\n",
    "    # 对数函数值\n",
    "    h = sigmoid(np.dot(theta,x.T))\n",
    "    # 损失函数\n",
    "    J = np.sum(y*np.log*(h)+(1-y)*np.log(1-h))/(-1*m)\n",
    "    return J\n",
    "\n",
    "# 梯度下降 学习率为0.01 迭代次数为20000\n",
    "def compute(x, y, theta, lr=0.01, iters=20000):\n",
    "    \n",
    "    \n",
    "# 决策边界\n",
    "def plotDescisionBoundary(X,y,theta):\n",
    "    # 补充画当前样本散点图的代码\n",
    "    # 分类决策面 theta0+theta1*x1+theta2*x2 = 0\n",
    "    x1 = np.arange(min(X[:, 0]), max(X[:, 0]), 0.1)\n",
    "    x2 = -(theta[1]*x1+theta[0])/theta[2]\n",
    "    plt.plot(x1,x2)\n",
    "    plt.show()\n"
   ]
  }
 ],
 "metadata": {
  "kernelspec": {
   "display_name": "Python 3",
   "language": "python",
   "name": "python3"
  },
  "language_info": {
   "codemirror_mode": {
    "name": "ipython",
    "version": 3
   },
   "file_extension": ".py",
   "mimetype": "text/x-python",
   "name": "python",
   "nbconvert_exporter": "python",
   "pygments_lexer": "ipython3",
   "version": "3.8.5"
  }
 },
 "nbformat": 4,
 "nbformat_minor": 4
}
