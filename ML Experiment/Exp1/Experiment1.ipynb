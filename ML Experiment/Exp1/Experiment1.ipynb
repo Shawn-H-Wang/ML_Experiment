{
 "cells": [
  {
   "cell_type": "code",
   "execution_count": 17,
   "metadata": {},
   "outputs": [],
   "source": [
    "import numpy as np\n",
    "from matplotlib import pyplot as plt\n",
    "from mpl_toolkits.mplot3d import Axes3D"
   ]
  },
  {
   "cell_type": "code",
   "execution_count": 18,
   "metadata": {},
   "outputs": [],
   "source": [
    "# 读取数据\n",
    "data = np.genfromtxt('./data.csv', delimiter=',')\n",
    "data_x = data[:,0]\n",
    "data_y = data[:,1]"
   ]
  },
  {
   "cell_type": "code",
   "execution_count": 21,
   "metadata": {
    "scrolled": true
   },
   "outputs": [
    {
     "name": "stdout",
     "output_type": "stream",
     "text": [
      "[1593.13345917  922.64270969  544.67893403  331.61616325  211.51008996\n",
      "  143.80483505  105.63855733   84.1237595    71.99560294   65.15880998\n",
      "   61.30482289   59.13227965   57.90758673   57.21720853   56.82803002\n",
      "   56.60864143   56.48496548   56.4152439    56.37593707   56.35377539\n",
      "   56.34127864   56.33423013   56.33025286   56.32800688   56.32673686\n",
      "   56.32601699   56.32560726   56.32537234   56.32523598   56.32515517\n",
      "   56.32510568   56.32507384   56.32505195   56.32503567   56.32502256\n",
      "   56.32501122   56.3250009    56.32499113   56.32498169   56.32497243\n",
      "   56.32496327   56.32495417   56.3249451    56.32493604   56.324927\n",
      "   56.32491797   56.32490893   56.3248999    56.32489087   56.32488184\n",
      "   56.32487281   56.32486378   56.32485476   56.32484573   56.3248367\n",
      "   56.32482767   56.32481864   56.32480962   56.32480059   56.32479156\n",
      "   56.32478253   56.3247735    56.32476448   56.32475545   56.32474642\n",
      "   56.32473739   56.32472837   56.32471934   56.32471031   56.32470128\n",
      "   56.32469226   56.32468323   56.3246742    56.32466518   56.32465615\n",
      "   56.32464712   56.3246381    56.32462907   56.32462004   56.32461102\n",
      "   56.32460199   56.32459296   56.32458394   56.32457491   56.32456588\n",
      "   56.32455686   56.32454783   56.32453881   56.32452978   56.32452075\n",
      "   56.32451173   56.3245027    56.32449368   56.32448465   56.32447563\n",
      "   56.3244666    56.32445757   56.32444855   56.32443952   56.3244305\n",
      "   56.32442147   56.32441245   56.32440342   56.3243944    56.32438537\n",
      "   56.32437635   56.32436732   56.3243583    56.32434928   56.32434025\n",
      "   56.32433123   56.3243222    56.32431318   56.32430415   56.32429513\n",
      "   56.32428611   56.32427708   56.32426806   56.32425903   56.32425001\n",
      "   56.32424099   56.32423196   56.32422294   56.32421392   56.32420489\n",
      "   56.32419587   56.32418684   56.32417782   56.3241688    56.32415978\n",
      "   56.32415075   56.32414173   56.32413271   56.32412368   56.32411466\n",
      "   56.32410564   56.32409662   56.32408759   56.32407857   56.32406955\n",
      "   56.32406053   56.3240515    56.32404248   56.32403346   56.32402444\n",
      "   56.32401541   56.32400639   56.32399737   56.32398835   56.32397933\n",
      "   56.32397031   56.32396128   56.32395226   56.32394324   56.32393422\n",
      "   56.3239252    56.32391618   56.32390716   56.32389813   56.32388911\n",
      "   56.32388009   56.32387107   56.32386205   56.32385303   56.32384401\n",
      "   56.32383499   56.32382597   56.32381695   56.32380793   56.32379891\n",
      "   56.32378989   56.32378086   56.32377184   56.32376282   56.3237538\n",
      "   56.32374478   56.32373576   56.32372674   56.32371772   56.32370871\n",
      "   56.32369969   56.32369067   56.32368165   56.32367263   56.32366361\n",
      "   56.32365459   56.32364557   56.32363655   56.32362753   56.32361851\n",
      "   56.32360949   56.32360047   56.32359145   56.32358244   56.32357342\n",
      "   56.3235644    56.32355538   56.32354636   56.32353734   56.32352832]\n"
     ]
    },
    {
     "data": {
      "image/png": "[encoded data removed]",
      "text/plain": [
       "<Figure size 432x288 with 1 Axes>"
      ]
     },
     "metadata": {
      "needs_background": "light"
     },
     "output_type": "display_data"
    }
   ],
   "source": [
    "# 梯度下降单变量线性回归算法实现\n",
    "# 特殊值定义\n",
    "lr = 0.0001\n",
    "theta0 = 0\n",
    "theta1 = 0\n",
    "iterator = 200\n",
    "theta0s = np.zeros(iterator)\n",
    "theta1s = np.zeros(iterator)\n",
    "losses = np.zeros(iterator)\n",
    "\n",
    "# 损失函数定义__线性回归\n",
    "def compute_loss(data_x, data_y, theta0, theta1):\n",
    "    sum = 0\n",
    "    m = float(len(data_x))\n",
    "    for i in range(len(data_x)):\n",
    "        sum += ((theta0+theta1*data_x[i])-data_y[i])**2\n",
    "    return 1/(m*2)*sum\n",
    "\n",
    "# 梯度回归函数定义__梯度下降法\n",
    "def compute_convergence(data_x, data_y, theta0, theta1, lr, iterator):\n",
    "    # 获取data长度\n",
    "    m = float(len(data_x))\n",
    "    \n",
    "    # 迭代计算\n",
    "    for n in range(iterator):\n",
    "        sum1 = 0\n",
    "        sum2 = 0\n",
    "        for i in range(len(data_x)):\n",
    "            sum1 += (theta0+theta1*data_x[i])-data_y[i]\n",
    "            sum2 += ((theta0+theta1*data_x[i])-data_y[i])*data_x[i]\n",
    "        theta0 -= lr/m*sum1\n",
    "        theta1 -= lr/m*sum2\n",
    "        theta0s[n] = theta0\n",
    "        theta1s[n] = theta1\n",
    "        losses[n] = compute_loss(data_x, data_y, theta0, theta1)\n",
    "    print(losses)\n",
    "    return theta0, theta1\n",
    "    \n",
    "# 计算函数，打印数值\n",
    "theta0, theta1 = compute_convergence(data_x, data_y, theta0, theta1, lr, iterator)\n",
    "# 打印图像\n",
    "fig1 = plt.figure()\n",
    "plt.plot(data_x, data_y, 'b.')\n",
    "plt.plot(data_x, theta0+theta1*data_x, 'r')\n",
    "plt.show()"
   ]
  },
  {
   "cell_type": "code",
   "execution_count": 22,
   "metadata": {},
   "outputs": [
    {
     "data": {
      "image/png": "[encoded data removed]",
      "text/plain": [
       "<Figure size 432x288 with 1 Axes>"
      ]
     },
     "metadata": {
      "needs_background": "light"
     },
     "output_type": "display_data"
    }
   ],
   "source": [
    "plt.plot(np.linspace(1,iterator,iterator),losses,'r')\n",
    "plt.show()"
   ]
  },
  {
   "cell_type": "code",
   "execution_count": null,
   "metadata": {},
   "outputs": [],
   "source": []
  },
  {
   "cell_type": "code",
   "execution_count": 12,
   "metadata": {},
   "outputs": [],
   "source": [
    "# 多变量线性回归\n",
    "datas = np.genfromtxt('./ex1data2.txt', delimiter=',')\n",
    "data_x1 = datas[:,0]\n",
    "data_x2 = datas[:,1]\n",
    "data_yy = datas[:,2]"
   ]
  }
 ],
 "metadata": {
  "kernelspec": {
   "display_name": "Python 3",
   "language": "python",
   "name": "python3"
  },
  "language_info": {
   "codemirror_mode": {
    "name": "ipython",
    "version": 3
   },
   "file_extension": ".py",
   "mimetype": "text/x-python",
   "name": "python",
   "nbconvert_exporter": "python",
   "pygments_lexer": "ipython3",
   "version": "3.8.3"
  }
 },
 "nbformat": 4,
 "nbformat_minor": 4
}
